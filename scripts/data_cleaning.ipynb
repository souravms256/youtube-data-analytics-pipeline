{
 "cells": [
  {
   "cell_type": "code",
   "execution_count": 3,
   "id": "9ab77821",
   "metadata": {},
   "outputs": [
    {
     "name": "stdout",
     "output_type": "stream",
     "text": [
      "[✔] Cleaned and saved: c:\\Users\\srvsh\\OneDrive\\Desktop\\sms\\cloud_project\\youtube-data-analytics-pipeline\\cleaned\\USvideos_cleaned.csv\n",
      "[✔] Cleaned and saved: c:\\Users\\srvsh\\OneDrive\\Desktop\\sms\\cloud_project\\youtube-data-analytics-pipeline\\cleaned\\CAvideos_cleaned.csv\n",
      "[✔] Cleaned and saved: c:\\Users\\srvsh\\OneDrive\\Desktop\\sms\\cloud_project\\youtube-data-analytics-pipeline\\cleaned\\DEvideos_cleaned.csv\n",
      "[✔] Cleaned and saved: c:\\Users\\srvsh\\OneDrive\\Desktop\\sms\\cloud_project\\youtube-data-analytics-pipeline\\cleaned\\FRvideos_cleaned.csv\n",
      "[✔] Cleaned and saved: c:\\Users\\srvsh\\OneDrive\\Desktop\\sms\\cloud_project\\youtube-data-analytics-pipeline\\cleaned\\GBvideos_cleaned.csv\n",
      "[✔] Cleaned and saved: c:\\Users\\srvsh\\OneDrive\\Desktop\\sms\\cloud_project\\youtube-data-analytics-pipeline\\cleaned\\INvideos_cleaned.csv\n",
      "[✘] Failed for JP: 'utf-8' codec can't decode bytes in position 215323-215324: invalid continuation byte\n",
      "[✘] Failed for KR: 'utf-8' codec can't decode bytes in position 261291-261292: invalid continuation byte\n",
      "[✘] Failed for MX: 'utf-8' codec can't decode byte 0xc3 in position 130670: invalid continuation byte\n",
      "[✘] Failed for RU: 'utf-8' codec can't decode byte 0xd0 in position 364767: invalid continuation byte\n"
     ]
    }
   ],
   "source": [
    "import pandas as pd\n",
    "import json\n",
    "import os\n",
    "\n",
    "# Define base folders (assuming script is inside 'scripts/')\n",
    "base_dir = os.path.abspath('..')\n",
    "data_dir = os.path.join(base_dir, 'data')\n",
    "cleaned_dir = os.path.join(base_dir, 'cleaned')\n",
    "\n",
    "# Create cleaned directory if it doesn't exist\n",
    "os.makedirs(cleaned_dir, exist_ok=True)\n",
    "\n",
    "# List of country codes based on your files\n",
    "country_codes = ['US', 'CA', 'DE', 'FR', 'GB', 'IN', 'JP', 'KR', 'MX', 'RU']\n",
    "\n",
    "for code in country_codes:\n",
    "    csv_file = os.path.join(data_dir, f\"{code}videos.csv\")\n",
    "    json_file = os.path.join(data_dir, f\"{code}_category_id.json\")\n",
    "    \n",
    "    try:\n",
    "        # Load video data\n",
    "        df = pd.read_csv(csv_file)\n",
    "\n",
    "        # Load and parse JSON\n",
    "        with open(json_file, 'r') as f:\n",
    "            categories = json.load(f)\n",
    "\n",
    "        # Create category mapping\n",
    "        category_mapping = {\n",
    "            int(item['id']): item['snippet']['title']\n",
    "            for item in categories['items']\n",
    "        }\n",
    "\n",
    "        # Map category names\n",
    "        df['category_name'] = df['category_id'].map(category_mapping)\n",
    "\n",
    "        # Clean data\n",
    "        df.drop_duplicates(inplace=True)\n",
    "        df.dropna(subset=['video_id', 'title', 'category_id'], inplace=True)\n",
    "\n",
    "        # Save cleaned file\n",
    "        output_file = os.path.join(cleaned_dir, f\"{code}videos_cleaned.csv\")\n",
    "        df.to_csv(output_file, index=False)\n",
    "\n",
    "        print(f\"[✔] Cleaned and saved: {output_file}\")\n",
    "\n",
    "    except Exception as e:\n",
    "        print(f\"[✘] Failed for {code}: {e}\")\n"
   ]
  },
  {
   "cell_type": "code",
   "execution_count": null,
   "id": "080a5d7c",
   "metadata": {},
   "outputs": [],
   "source": []
  }
 ],
 "metadata": {
  "kernelspec": {
   "display_name": "Python 3",
   "language": "python",
   "name": "python3"
  },
  "language_info": {
   "codemirror_mode": {
    "name": "ipython",
    "version": 3
   },
   "file_extension": ".py",
   "mimetype": "text/x-python",
   "name": "python",
   "nbconvert_exporter": "python",
   "pygments_lexer": "ipython3",
   "version": "3.13.1"
  }
 },
 "nbformat": 4,
 "nbformat_minor": 5
}
